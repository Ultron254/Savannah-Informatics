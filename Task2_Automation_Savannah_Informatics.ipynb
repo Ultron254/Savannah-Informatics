{
  "nbformat": 4,
  "nbformat_minor": 0,
  "metadata": {
    "colab": {
      "provenance": []
    },
    "kernelspec": {
      "name": "python3",
      "display_name": "Python 3"
    },
    "language_info": {
      "name": "python"
    }
  },
  "cells": [
    {
      "cell_type": "markdown",
      "source": [
        "## Task 2: Test Automation Submission\n",
        "\n",
        "** By Allan Matano **\n",
        "\n",
        "This submission covers the automated testing of the search functionality as described in the assignment. The automation script was implemented using **Python** and **Selenium**.\n",
        "\n",
        "### Overview\n",
        "The script performs the following steps:\n",
        "1. Opens the browser and navigates to the photo/album listing page.\n",
        "2. Enters a search term into the search box.\n",
        "3. Validates that the correct results appear based on the search term.\n",
        "\n",
        "### Tools and Libraries Used\n",
        "- **Python**: For writing the automation script.\n",
        "- **Selenium WebDriver**: To automate browser actions and validate the search functionality.\n"
      ],
      "metadata": {
        "id": "qS5ZMsXDv0Iv"
      }
    },
    {
      "cell_type": "code",
      "source": [
        "!pip install selenium\n"
      ],
      "metadata": {
        "colab": {
          "base_uri": "https://localhost:8080/",
          "height": 0
        },
        "id": "fN5Nfz6Ev3k_",
        "outputId": "20bc88fe-014d-4ca6-ada4-35b096848717"
      },
      "execution_count": 11,
      "outputs": [
        {
          "output_type": "stream",
          "name": "stdout",
          "text": [
            "Requirement already satisfied: selenium in /usr/local/lib/python3.10/dist-packages (4.25.0)\n",
            "Requirement already satisfied: urllib3<3,>=1.26 in /usr/local/lib/python3.10/dist-packages (from urllib3[socks]<3,>=1.26->selenium) (2.2.3)\n",
            "Requirement already satisfied: trio~=0.17 in /usr/local/lib/python3.10/dist-packages (from selenium) (0.27.0)\n",
            "Requirement already satisfied: trio-websocket~=0.9 in /usr/local/lib/python3.10/dist-packages (from selenium) (0.11.1)\n",
            "Requirement already satisfied: certifi>=2021.10.8 in /usr/local/lib/python3.10/dist-packages (from selenium) (2024.8.30)\n",
            "Requirement already satisfied: typing_extensions~=4.9 in /usr/local/lib/python3.10/dist-packages (from selenium) (4.12.2)\n",
            "Requirement already satisfied: websocket-client~=1.8 in /usr/local/lib/python3.10/dist-packages (from selenium) (1.8.0)\n",
            "Requirement already satisfied: attrs>=23.2.0 in /usr/local/lib/python3.10/dist-packages (from trio~=0.17->selenium) (24.2.0)\n",
            "Requirement already satisfied: sortedcontainers in /usr/local/lib/python3.10/dist-packages (from trio~=0.17->selenium) (2.4.0)\n",
            "Requirement already satisfied: idna in /usr/local/lib/python3.10/dist-packages (from trio~=0.17->selenium) (3.10)\n",
            "Requirement already satisfied: outcome in /usr/local/lib/python3.10/dist-packages (from trio~=0.17->selenium) (1.3.0.post0)\n",
            "Requirement already satisfied: sniffio>=1.3.0 in /usr/local/lib/python3.10/dist-packages (from trio~=0.17->selenium) (1.3.1)\n",
            "Requirement already satisfied: exceptiongroup in /usr/local/lib/python3.10/dist-packages (from trio~=0.17->selenium) (1.2.2)\n",
            "Requirement already satisfied: wsproto>=0.14 in /usr/local/lib/python3.10/dist-packages (from trio-websocket~=0.9->selenium) (1.2.0)\n",
            "Requirement already satisfied: pysocks!=1.5.7,<2.0,>=1.5.6 in /usr/local/lib/python3.10/dist-packages (from urllib3[socks]<3,>=1.26->selenium) (1.7.1)\n",
            "Requirement already satisfied: h11<1,>=0.9.0 in /usr/local/lib/python3.10/dist-packages (from wsproto>=0.14->trio-websocket~=0.9->selenium) (0.14.0)\n"
          ]
        }
      ]
    },
    {
      "cell_type": "code",
      "source": [
        "from selenium import webdriver\n",
        "from selenium.webdriver.common.by import By\n",
        "from selenium.webdriver.common.keys import Keys\n",
        "import time\n",
        "\n",
        "# 4 the Web Driver\n",
        "\n",
        "driver = webdriver.Chrome()\n",
        "\n",
        "# URL of the photo/album listing page\n",
        "url = \"http://localhost:3000/photo\"\n",
        "\n",
        "# Test Data\n",
        "search_term = \"sample photo title\"\n",
        "\n",
        "try:\n",
        "    # Step 1: Open the browser and navigate to the photo/album listing page\n",
        "    driver.get(url)\n",
        "    driver.maximize_window()\n",
        "\n",
        "    # Step 2: Locate the search box element and enter the search term\n",
        "    search_box = driver.find_element(By.ID, \"searchBox\")\n",
        "    search_box.send_keys(search_term)\n",
        "    search_box.send_keys(Keys.RETURN)\n",
        "\n",
        "    # Pause to alloww search results to load\n",
        "    time.sleep(3)\n",
        "\n",
        "    # Step 3: Validate that the correct results appear\n",
        "    results = driver.find_elements(By.CLASS_NAME, \"photo-title\")\n",
        "\n",
        "    # Check if any result contains the search term\n",
        "    search_results_valid = any(search_term.lower() in result.text.lower() for result in results)\n",
        "\n",
        "    # Print results based on validation\n",
        "    if search_results_valid:\n",
        "        print(\"Test Passed: Search results correctly displayed.\")\n",
        "    else:\n",
        "        print(\"Test Failed: Search results do not match the search term.\")\n",
        "\n",
        "finally:\n",
        "    # Step 4: Close the browser\n",
        "    driver.quit()\n",
        "\n"
      ],
      "metadata": {
        "id": "jwCAnO6bv3gu"
      },
      "execution_count": 10,
      "outputs": []
    },
    {
      "cell_type": "code",
      "source": [],
      "metadata": {
        "id": "4C0lcJAcv3Su"
      },
      "execution_count": null,
      "outputs": []
    }
  ]
}